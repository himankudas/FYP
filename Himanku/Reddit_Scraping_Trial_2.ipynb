{
  "nbformat": 4,
  "nbformat_minor": 0,
  "metadata": {
    "colab": {
      "name": "Reddit Scraping Trial 2.ipynb",
      "provenance": [],
      "collapsed_sections": []
    },
    "kernelspec": {
      "name": "python3",
      "display_name": "Python 3"
    }
  },
  "cells": [
    {
      "cell_type": "code",
      "metadata": {
        "id": "GNLHwmHU7UN2",
        "colab_type": "code",
        "colab": {
          "base_uri": "https://localhost:8080/",
          "height": 207
        },
        "outputId": "ed580834-cdbb-4946-b6a3-f9571f360e1b"
      },
      "source": [
        "pip install praw"
      ],
      "execution_count": 6,
      "outputs": [
        {
          "output_type": "stream",
          "text": [
            "Requirement already satisfied: praw in /usr/local/lib/python3.6/dist-packages (7.1.0)\n",
            "Requirement already satisfied: prawcore<2.0,>=1.3.0 in /usr/local/lib/python3.6/dist-packages (from praw) (1.4.0)\n",
            "Requirement already satisfied: update-checker>=0.17 in /usr/local/lib/python3.6/dist-packages (from praw) (0.17)\n",
            "Requirement already satisfied: websocket-client>=0.54.0 in /usr/local/lib/python3.6/dist-packages (from praw) (0.57.0)\n",
            "Requirement already satisfied: requests<3.0,>=2.6.0 in /usr/local/lib/python3.6/dist-packages (from prawcore<2.0,>=1.3.0->praw) (2.23.0)\n",
            "Requirement already satisfied: six in /usr/local/lib/python3.6/dist-packages (from websocket-client>=0.54.0->praw) (1.15.0)\n",
            "Requirement already satisfied: idna<3,>=2.5 in /usr/local/lib/python3.6/dist-packages (from requests<3.0,>=2.6.0->prawcore<2.0,>=1.3.0->praw) (2.10)\n",
            "Requirement already satisfied: chardet<4,>=3.0.2 in /usr/local/lib/python3.6/dist-packages (from requests<3.0,>=2.6.0->prawcore<2.0,>=1.3.0->praw) (3.0.4)\n",
            "Requirement already satisfied: certifi>=2017.4.17 in /usr/local/lib/python3.6/dist-packages (from requests<3.0,>=2.6.0->prawcore<2.0,>=1.3.0->praw) (2020.6.20)\n",
            "Requirement already satisfied: urllib3!=1.25.0,!=1.25.1,<1.26,>=1.21.1 in /usr/local/lib/python3.6/dist-packages (from requests<3.0,>=2.6.0->prawcore<2.0,>=1.3.0->praw) (1.24.3)\n"
          ],
          "name": "stdout"
        }
      ]
    },
    {
      "cell_type": "code",
      "metadata": {
        "id": "nogyyb6c-C3b",
        "colab_type": "code",
        "colab": {}
      },
      "source": [
        "import praw"
      ],
      "execution_count": 7,
      "outputs": []
    },
    {
      "cell_type": "code",
      "metadata": {
        "id": "UUyXt-N--KTK",
        "colab_type": "code",
        "colab": {}
      },
      "source": [
        "reddit = praw.Reddit(client_id=\"royw8YMgFnpBUA\",\n",
        "                     client_secret=\"3-X9w9MZvrGuSyIJycLa1MyyMkA\",\n",
        "                     user_agent=\"fyp:com.localhost.8000:v1.0.0 \",\n",
        "                     username=\"100mitrajagdale\",\n",
        "                     password=\"Test@reddit\")"
      ],
      "execution_count": 12,
      "outputs": []
    },
    {
      "cell_type": "code",
      "metadata": {
        "id": "ZmwxTOaa-Mh3",
        "colab_type": "code",
        "colab": {
          "base_uri": "https://localhost:8080/",
          "height": 697
        },
        "outputId": "bc82262a-1960-457b-92b5-509a8c70280d"
      },
      "source": [
        "subreddit = reddit.subreddit('INFP')\n",
        "\n",
        "conversedict = {}\n",
        "hot_python = subreddit.hot(limit=10)\n",
        "\n",
        "for submission in hot_python:\n",
        "    if not submission.stickied:\n",
        "        print('Title: {}, ups: {}, downs: {}, Have we visited?: {}, subid: {}'.format(submission.title,\n",
        "                                                                                                   submission.ups,\n",
        "                                                                                                   submission.downs,\n",
        "                                                                                                   submission.visited,\n",
        "                                                                                                   submission.id))\n",
        "\n",
        "        submission.comments.replace_more(limit=0)\n",
        "        for comment in submission.comments.list():\n",
        "            if comment.id not in conversedict:\n",
        "                conversedict[comment.id] = [comment.body,{}]\n",
        "                if comment.parent() != submission.id:\n",
        "                    parent = str(comment.parent())\n",
        "                    conversedict[parent][1][comment.id] = [comment.ups, comment.body]\n",
        "\n",
        "                    # Dictionary Format#\n",
        "'''\n",
        "conversedict = {post_id: [parent_content, {reply_id:[votes, reply_content],\n",
        "                                            reply_id:[votes, reply_content],\n",
        "                                            reply_id:[votes, reply_content]}],\n",
        "\n",
        "                post_id: [parent_content, {reply_id:[votes, reply_content],\n",
        "                                            reply_id:[votes, reply_content],\n",
        "                                            reply_id:[votes, reply_content]}],\n",
        "                                            \n",
        "                post_id: [parent_content, {reply_id:[votes, reply_content],\n",
        "                                            reply_id:[votes, reply_content],\n",
        "                                            reply_id:[votes, reply_content]}],\n",
        "                }\n",
        "\n",
        "\n",
        "'''\n",
        "\n",
        "for post_id in conversedict:\n",
        "    message = conversedict[post_id][0]\n",
        "    replies = conversedict[post_id][1]\n",
        "    if len(replies) > 1:\n",
        "        print('Original Message: {}'.format(message))\n",
        "        print(35*'_')\n",
        "        print('Replies:')\n",
        "        for reply in replies:\n",
        "            print(replies[reply])"
      ],
      "execution_count": 13,
      "outputs": [
        {
          "output_type": "stream",
          "text": [
            "Title: you guys were so kind to me in my last post, so I was inspired to paint something for you, ups: 358, downs: 0, Have we visited?: False, subid: hz9f41\n",
            "Title: yes, ups: 189, downs: 0, Have we visited?: False, subid: hza1kx\n",
            "Title: infp vibes ✨, ups: 558, downs: 0, Have we visited?: False, subid: hz3ipb\n",
            "Title: Anyone else?, ups: 1372, downs: 0, Have we visited?: False, subid: hyvre8\n",
            "Title: One of the nicer nights I've experienced., ups: 182, downs: 0, Have we visited?: False, subid: hz6c0l\n",
            "Title: 💕, ups: 76, downs: 0, Have we visited?: False, subid: hz9nph\n",
            "Title: I really like this picture. It looks \"dreamy\", ups: 341, downs: 0, Have we visited?: False, subid: hyxmeg\n",
            "Title: 😡😡😡😡😡😡😡😡, ups: 76, downs: 0, Have we visited?: False, subid: hz681g\n",
            "Original Message: Can you add a tiny hut maybe 🥺\n",
            "___________________________________\n",
            "Replies:\n",
            "[2, \"I like that idea but unfortunately I'm not good at painting things that have to be a particular shape like architecture 😂\"]\n",
            "[1, 'if you do add a hut, can you paint my name on the doorbell?\\n\\nthanks! :-)']\n",
            "Original Message: [If something's hard to do then it's not worth doing](https://youtu.be/1G8XQA9QFS0). Ageless advice :D\n",
            "___________________________________\n",
            "Replies:\n",
            "[5, 'thats a recipe for failure']\n",
            "[1, 'i feel attacked']\n",
            "Original Message: Heck yes! Don’t forget scoping out the location, parking, which route you’ll take, and calculating the exact amount of time you have to stay to not be rude.\n",
            "___________________________________\n",
            "Replies:\n",
            "[9, 'Haha omg so relatable']\n",
            "[2, 'In the end you freak out and all the preparations go out of the window, everything ends up as a mess.']\n",
            "Original Message: \"This article/video seems super interesting! I'll just save that for later though because I'm too lazy right now.\"\n",
            "___________________________________\n",
            "Replies:\n",
            "[5, 'every time']\n",
            "[2, 'I’ve never felt more at home than in this subreddit lul']\n",
            "Original Message: This is precisely what made me think i was an ENFP for a long long time. I guess the stereotype applies to both!\n",
            "___________________________________\n",
            "Replies:\n",
            "[22, 'Ahh for sure! Both us and our extroverted cousins have the Ne in our top two functions, so makes sense I guess 🙂']\n",
            "[15, 'If anything, the ENFPs do this a bit less because they spend less time browsing the Internet and more time socializing/doing things.']\n",
            "[12, 'Most stereotypes are shared for an introverted type and it’s extroverted varient']\n",
            "[1, 'I couldn’t be more ENFP and I moderately do not like having multiple tabs open. I mean, it’s not gonna ruin my day, but I keep my shit organized.']\n",
            "Original Message: You better get a turtleneck and those glasses for graduation!\n",
            "___________________________________\n",
            "Replies:\n",
            "[2, 'I literally see myself in those kind if glasses and a turtleneck when I start practising med LOL']\n",
            "[2, 'Yes that’s a great idea, I’m definitely going to remember this for graduation, thank you.']\n"
          ],
          "name": "stdout"
        }
      ]
    },
    {
      "cell_type": "markdown",
      "metadata": {
        "id": "EU4LgvvIBe32",
        "colab_type": "text"
      },
      "source": [
        "Future Code Need to be figured out\n",
        "\n",
        "\n",
        "https://github.com/praw-dev/praw/issues/1336"
      ]
    },
    {
      "cell_type": "code",
      "metadata": {
        "id": "-o0V8OueAPsB",
        "colab_type": "code",
        "colab": {}
      },
      "source": [
        "def get_urls(subreddit,date,min_votes):\n",
        "    ''' returns a list of urls of images posted on the sub since date that have >= min_votes upvotes'''\n",
        "    print(\"getting urls from r/{}\".format(subreddit))\n",
        "    current_time = time.time()\n",
        "    start_time = time.mktime(datetime.datetime.strptime(date, \"%d/%m/%Y\").timetuple())\n",
        "    urls = []\n",
        "    reddit = praw.Reddit(client_secret = os.environ['REDDIT_API_SECRET'],\n",
        "                     client_id = os.environ['REDDIT_API_ID'] ,\n",
        "                     user_agent = 'gathering data script by /u/GougeC')\n",
        "    i = 0\n",
        "    for post in reddit.subreddit(subreddit).submissions(start_time,current_time):\n",
        "        if post.ups >= min_votes:\n",
        "            url = post.url\n",
        "            if url[-4:] in ('.png' ,'.jpg'):\n",
        "                urls.append(url)\n",
        "                i+=1\n",
        "                if i%100 ==0:\n",
        "                    print(\"got {} urls\".format(i))\n",
        "    return urls"
      ],
      "execution_count": 10,
      "outputs": []
    },
    {
      "cell_type": "code",
      "metadata": {
        "id": "CsJNI-ql-SZB",
        "colab_type": "code",
        "colab": {
          "base_uri": "https://localhost:8080/",
          "height": 368
        },
        "outputId": "6145c73d-6be7-46a6-c1fa-7ae268a6df7e"
      },
      "source": [
        "import multiprocessing\n",
        "import logging\n",
        "import base36\n",
        "import praw\n",
        "import prawcore\n",
        "\n",
        "handler = logging.StreamHandler()\n",
        "handler.setLevel(logging.DEBUG)\n",
        "logger = logging.getLogger('prawcore')\n",
        "logger.setLevel(logging.DEBUG)\n",
        "logger.addHandler(handler)\n",
        "\n",
        "def process_submission(submission_id: str):  # blob_queue\n",
        "    reddit = praw.Reddit(client_id='replace',\n",
        "                        client_secret='replace',\n",
        "                        user_agent='my user agent')\n",
        "\n",
        "    try:\n",
        "        submission = reddit.submission(id=str(submission_id))\n",
        "        submission.comments.replace_more(limit=None)\n",
        "        comments = submission.comments.list()\n",
        "    except prawcore.exceptions.NotFound:\n",
        "        return '404' \n",
        "\n",
        "if __name__ == '__main__':\n",
        "    pool = multiprocessing.Pool(processes=55)\n",
        "    while True:\n",
        "        try:\n",
        "            pool.apply_async(process_submission, ('lghtj', ))\n",
        "        except prawcore.exceptions.Forbidden as e:\n",
        "            print(e)"
      ],
      "execution_count": 11,
      "outputs": [
        {
          "output_type": "error",
          "ename": "ModuleNotFoundError",
          "evalue": "ignored",
          "traceback": [
            "\u001b[0;31m---------------------------------------------------------------------------\u001b[0m",
            "\u001b[0;31mModuleNotFoundError\u001b[0m                       Traceback (most recent call last)",
            "\u001b[0;32m<ipython-input-11-6c5391b913c8>\u001b[0m in \u001b[0;36m<module>\u001b[0;34m()\u001b[0m\n\u001b[1;32m      1\u001b[0m \u001b[0;32mimport\u001b[0m \u001b[0mmultiprocessing\u001b[0m\u001b[0;34m\u001b[0m\u001b[0;34m\u001b[0m\u001b[0m\n\u001b[1;32m      2\u001b[0m \u001b[0;32mimport\u001b[0m \u001b[0mlogging\u001b[0m\u001b[0;34m\u001b[0m\u001b[0;34m\u001b[0m\u001b[0m\n\u001b[0;32m----> 3\u001b[0;31m \u001b[0;32mimport\u001b[0m \u001b[0mbase36\u001b[0m\u001b[0;34m\u001b[0m\u001b[0;34m\u001b[0m\u001b[0m\n\u001b[0m\u001b[1;32m      4\u001b[0m \u001b[0;32mimport\u001b[0m \u001b[0mpraw\u001b[0m\u001b[0;34m\u001b[0m\u001b[0;34m\u001b[0m\u001b[0m\n\u001b[1;32m      5\u001b[0m \u001b[0;32mimport\u001b[0m \u001b[0mprawcore\u001b[0m\u001b[0;34m\u001b[0m\u001b[0;34m\u001b[0m\u001b[0m\n",
            "\u001b[0;31mModuleNotFoundError\u001b[0m: No module named 'base36'",
            "",
            "\u001b[0;31m---------------------------------------------------------------------------\u001b[0;32m\nNOTE: If your import is failing due to a missing package, you can\nmanually install dependencies using either !pip or !apt.\n\nTo view examples of installing some common dependencies, click the\n\"Open Examples\" button below.\n\u001b[0;31m---------------------------------------------------------------------------\u001b[0m\n"
          ]
        }
      ]
    },
    {
      "cell_type": "code",
      "metadata": {
        "id": "BogxxaUWBbxy",
        "colab_type": "code",
        "colab": {}
      },
      "source": [
        ""
      ],
      "execution_count": null,
      "outputs": []
    }
  ]
}